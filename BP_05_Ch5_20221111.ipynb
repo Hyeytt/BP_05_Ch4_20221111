{
  "nbformat": 4,
  "nbformat_minor": 0,
  "metadata": {
    "colab": {
      "provenance": [],
      "authorship_tag": "ABX9TyMk9C1jXJWos/lK0EgYbkFW",
      "include_colab_link": true
    },
    "kernelspec": {
      "name": "python3",
      "display_name": "Python 3"
    },
    "language_info": {
      "name": "python"
    }
  },
  "cells": [
    {
      "cell_type": "markdown",
      "metadata": {
        "id": "view-in-github",
        "colab_type": "text"
      },
      "source": [
        "<a href=\"https://colab.research.google.com/github/Hyeytt/BP_05_Ch5_20221111/blob/main/BP_05_Ch5_20221111.ipynb\" target=\"_parent\"><img src=\"https://colab.research.google.com/assets/colab-badge.svg\" alt=\"Open In Colab\"/></a>"
      ]
    },
    {
      "cell_type": "markdown",
      "source": [
        "# 1."
      ],
      "metadata": {
        "id": "kOrJ7ooafafx"
      }
    },
    {
      "cell_type": "code",
      "execution_count": null,
      "metadata": {
        "colab": {
          "base_uri": "https://localhost:8080/"
        },
        "id": "phOf8wWtfDeb",
        "outputId": "798f642c-5247-4e66-9070-eab270220ebe"
      },
      "outputs": [
        {
          "output_type": "stream",
          "name": "stdout",
          "text": [
            "20살 이상\n"
          ]
        }
      ],
      "source": [
        "age = 20\n",
        "if age <20:\n",
        "  print(\"20살 미만\")\n",
        "else:\n",
        "  print(\"20살 이상\")\n"
      ]
    },
    {
      "cell_type": "markdown",
      "source": [
        "# 2"
      ],
      "metadata": {
        "id": "3LJNYNVDhU-s"
      }
    },
    {
      "cell_type": "code",
      "source": [
        "age = 20 \n",
        "if age >= 30 and age<=50:\n",
        "  print(\"30살 이상이고 50살 이하\")"
      ],
      "metadata": {
        "id": "QBSKjmiahWwG"
      },
      "execution_count": null,
      "outputs": []
    },
    {
      "cell_type": "markdown",
      "source": [
        "# 3"
      ],
      "metadata": {
        "id": "HVeNb8oehwPc"
      }
    },
    {
      "cell_type": "code",
      "source": [
        "temp = int(input(\"현재를 온도를 입력하시오 : \"))\n",
        "\n",
        "if temp >= 25:\n",
        "  print(\"반바지를 입으세요\")\n",
        "else:\n",
        "  print(\"긴바지를 입으세요\")\n"
      ],
      "metadata": {
        "colab": {
          "base_uri": "https://localhost:8080/"
        },
        "id": "-IVkbGamhzXc",
        "outputId": "f82ce218-bc30-43c7-8395-e00aae8070c1"
      },
      "execution_count": null,
      "outputs": [
        {
          "output_type": "stream",
          "name": "stdout",
          "text": [
            "현재를 온도를 입력하시오 : 21\n",
            "긴바지를 입으세요\n"
          ]
        }
      ]
    },
    {
      "cell_type": "markdown",
      "source": [
        "# 4"
      ],
      "metadata": {
        "id": "B6MIr65FiiLH"
      }
    },
    {
      "cell_type": "code",
      "source": [
        "score = int(input(\"성적을 입력하시오 : \"))\n",
        "\n",
        "if score >= 90:\n",
        "   print(\"A 학점입니다\")\n",
        "elif score >= 80:\n",
        "   print(\"B 학점입니다\")\n",
        "elif score >= 70:\n",
        "   print(\"C 학점입니다\")\n",
        "elif score >= 60:\n",
        "   print(\"D 학점입니다\")\n",
        "else:\n",
        "  print(\"F 학점입니다\")"
      ],
      "metadata": {
        "colab": {
          "base_uri": "https://localhost:8080/"
        },
        "id": "P0vldXkwikho",
        "outputId": "0e242e2b-ee92-4283-a692-d5e0f3c28697"
      },
      "execution_count": null,
      "outputs": [
        {
          "output_type": "stream",
          "name": "stdout",
          "text": [
            "성적을 입력하시오 : 99\n",
            "A 학점입니다\n"
          ]
        }
      ]
    },
    {
      "cell_type": "markdown",
      "source": [
        "# 5"
      ],
      "metadata": {
        "id": "okO3i25PjUGp"
      }
    },
    {
      "cell_type": "code",
      "source": [
        "import random\n",
        "x = random.randint(1,100)\n",
        "y = random.randint(1,100)\n",
        "\n",
        "ans = int(input(str(x) + \"-\" + str(y) + \"=\" ))\n",
        "\n",
        "if ans == x-y:\n",
        "  print(\"맞았습니다.\")\n",
        "else :\n",
        "  print(\"틀렸습니다.\")\n",
        "  "
      ],
      "metadata": {
        "colab": {
          "base_uri": "https://localhost:8080/"
        },
        "id": "Lt0P6KZjjVo4",
        "outputId": "3b39bca0-3bed-4467-8c7e-6f8ed61d0117"
      },
      "execution_count": null,
      "outputs": [
        {
          "output_type": "stream",
          "name": "stdout",
          "text": [
            "80-1=79\n",
            "맞았습니다.\n"
          ]
        }
      ]
    },
    {
      "cell_type": "markdown",
      "source": [
        "# 6"
      ],
      "metadata": {
        "id": "9MdaXm5rkPCK"
      }
    },
    {
      "cell_type": "code",
      "source": [
        "n = int(input(\"정수를 입력하시오 : \"))\n",
        "\n",
        "if n%2 == 0 and n%3 == 0:\n",
        "  print(\"2와 3으로 나누어 떨어집니다.\")\n",
        "else :\n",
        "  print(\"2와 3으로 나누어 떨어지지 않습니다\")"
      ],
      "metadata": {
        "colab": {
          "base_uri": "https://localhost:8080/"
        },
        "id": "PhPkyXM_kQmJ",
        "outputId": "b2096699-0f2a-4b0e-9f88-7baaa4158004"
      },
      "execution_count": null,
      "outputs": [
        {
          "output_type": "stream",
          "name": "stdout",
          "text": [
            "정수를 입력하시오 : 55\n",
            "2와 3으로 나누어 떨어지지 않습니다\n"
          ]
        }
      ]
    },
    {
      "cell_type": "markdown",
      "source": [
        "# 7."
      ],
      "metadata": {
        "id": "e7bVea1Dk8_W"
      }
    },
    {
      "cell_type": "code",
      "source": [
        "import random\n",
        "\n",
        "solution = random.randint(0,99)\n",
        "\n",
        "user = int(input(\"복권번호를 입력하시오(0에서 99사이) : \"))\n",
        "\n",
        "digit1 = solution//10\n",
        "digit2 = solution%10\n",
        "\n",
        "u_digit1 = solution//10\n",
        "u_digit2 = solution%10\n",
        "\n",
        "print(\"당첨번호는\", solution, \"입니다,\")\n",
        "if (digit1 == u_digit1 and digit2 == u_digit2):\n",
        "  print(\"상금은 100만원 입니다.\")\n",
        "elif (digit1 == u_digit1\n",
        "      or digit1 == u_digit2\n",
        "      or digit2 == u_digit1\n",
        "      or digit2 == u_digit2):\n",
        "  print(\"상금은 50만원입니다.\")\n",
        "else:\n",
        "  print(\"상금은 없습니다\")\n",
        "\n"
      ],
      "metadata": {
        "colab": {
          "base_uri": "https://localhost:8080/"
        },
        "id": "afP6D-nvk-ls",
        "outputId": "565b99c7-62b8-49ed-ab6f-e4806e423e41"
      },
      "execution_count": null,
      "outputs": [
        {
          "output_type": "stream",
          "name": "stdout",
          "text": [
            "복권번호를 입력하시오(0에서 99사이) : 55\n",
            "당첨번호는 55 입니다,\n",
            "상금은 100만원 입니다.\n"
          ]
        }
      ]
    },
    {
      "cell_type": "markdown",
      "source": [
        "# 8"
      ],
      "metadata": {
        "id": "yRtc0Ulgpyc2"
      }
    },
    {
      "cell_type": "markdown",
      "source": [
        "    import turtle \n",
        "    t = turtle.Turtle()\n",
        "    t.shape(\"turtle\")\n",
        "\n",
        "    x1 = int(input(\"큰 원의 중심좌표 x1 : \"))\n",
        "    y1 = int(input(\"큰 원의 중심좌표 y1: \"))\n",
        "    r1 = int(input(\"큰 원의 중심좌표 r1: \"))\n",
        "    x2 = int(input(\"작은 원의 중심좌표 x2: \"))\n",
        "    y2 = int(input(\"작은 원의 중심좌표 y2: \"))\n",
        "    r2 = int(input(\"작은 원의 반지름 : \"))\n",
        "\n",
        "    t.penup()\n",
        "    t.goto(x1, y1)\n",
        "    t.pendown()\n",
        "    t.circle(r1)\n",
        "\n",
        "    t.penup()\n",
        "    t.goto(x2, y2)\n",
        "    t.pendown()\n",
        "    t.circle(r2)\n",
        "\n",
        "    dist = ((x1- x2) * (x1-x2) + (y1 - y2) * (y1 -y2)) ** 0.5\n",
        "    if dist <= r1-r2 :\n",
        "        turtle.write(\"두번째 원이 첫번째 원의 내부에 있습니다.\")\n",
        "    elif dist <= r1 + r2:\n",
        "        turtle.write(\"두번째 원이 첫번째 원과 겹칩니다.\")\n",
        "    else:\n",
        "        turtle.write(\"두번째 원이 첫번째 원과 겹치지 않습니다.\")\n",
        "\n",
        "    t._screen.exitonclick()\n"
      ],
      "metadata": {
        "id": "PM455mUWp0KF"
      }
    }
  ]
}